{
 "cells": [
  {
   "cell_type": "code",
   "execution_count": 1,
   "id": "88d11d5a-f62b-4a22-b272-6133c75d9a8d",
   "metadata": {},
   "outputs": [],
   "source": [
    "%load_ext autoreload\n",
    "%autoreload 2"
   ]
  },
  {
   "cell_type": "code",
   "execution_count": 2,
   "id": "44023716-5231-46e8-8691-238afd51ab19",
   "metadata": {},
   "outputs": [],
   "source": [
    "from dataset import Dataset, log_det_fit_fn\n",
    "from submodular_monotone_net import SubmodularMonotoneNet\n",
    "from torch.utils.data import random_split, DataLoader\n",
    "import torch"
   ]
  },
  {
   "cell_type": "code",
   "execution_count": 3,
   "id": "9da6eb81-4d31-48a9-8bbe-06b26d93789b",
   "metadata": {},
   "outputs": [],
   "source": [
    "DATASET_SIZE = int(1e4)\n",
    "SAMPLE_SIZE = int(1e4)\n",
    "Z_SIZE = 10\n",
    "\n",
    "dataset = Dataset(DATASET_SIZE, SAMPLE_SIZE, Z_SIZE, log_det_fit_fn)"
   ]
  },
  {
   "cell_type": "code",
   "execution_count": 4,
   "id": "3964675c-a465-4702-ad2d-245e0444ba63",
   "metadata": {},
   "outputs": [
    {
     "data": {
      "text/plain": [
       "(tensor([False, False,  True,  ..., False, False,  True]), tensor(13.6579))"
      ]
     },
     "execution_count": 4,
     "metadata": {},
     "output_type": "execute_result"
    }
   ],
   "source": [
    "dataset[0]"
   ]
  },
  {
   "cell_type": "code",
   "execution_count": 5,
   "id": "dd276da8-724d-4d32-9d52-63388be3cdae",
   "metadata": {},
   "outputs": [],
   "source": [
    "train_size = int(0.8 * len(dataset))  # 80% for training\n",
    "test_size = len(dataset) - train_size  # Remaining for testing\n",
    "\n",
    "train_dataset, test_dataset = random_split(dataset, [train_size, test_size])\n",
    "\n",
    "# Create DataLoader for training and testing\n",
    "batch_size = 32\n",
    "train_loader = DataLoader(train_dataset, batch_size=batch_size, shuffle=True)\n",
    "test_loader = DataLoader(test_dataset, batch_size=batch_size, shuffle=False)"
   ]
  },
  {
   "cell_type": "code",
   "execution_count": 6,
   "id": "5dc60870-fe15-442c-90ab-364767529a23",
   "metadata": {},
   "outputs": [
    {
     "name": "stderr",
     "output_type": "stream",
     "text": [
      "/Users/devarora/ml/submodular_nn/increasing_concave_net.py:18: UserWarning: To copy construct from a tensor, it is recommended to use sourceTensor.clone().detach() or sourceTensor.clone().detach().requires_grad_(True), rather than torch.tensor(sourceTensor).\n",
      "  torch.tensor(\n",
      "/Users/devarora/ml/submodular_nn/increasing_concave_net.py:25: UserWarning: To copy construct from a tensor, it is recommended to use sourceTensor.clone().detach() or sourceTensor.clone().detach().requires_grad_(True), rather than torch.tensor(sourceTensor).\n",
      "  torch.tensor(\n"
     ]
    }
   ],
   "source": [
    "from submodular_monotone_net import SubmodularMonotoneNet\n",
    "monotone_network = SubmodularMonotoneNet(10, 0.5, SAMPLE_SIZE, Z_SIZE, [1, 100, 100, 1], dataset)"
   ]
  },
  {
   "cell_type": "code",
   "execution_count": 7,
   "id": "e3f9e2d0-a8e9-4392-b126-39c70876c3ac",
   "metadata": {},
   "outputs": [
    {
     "data": {
      "text/plain": [
       "10000"
      ]
     },
     "execution_count": 7,
     "metadata": {},
     "output_type": "execute_result"
    }
   ],
   "source": [
    "monotone_network.input_size"
   ]
  },
  {
   "cell_type": "code",
   "execution_count": 8,
   "id": "55c72386-cd20-49a1-9f6e-5d101d8c2cf6",
   "metadata": {},
   "outputs": [
    {
     "name": "stderr",
     "output_type": "stream",
     "text": [
      "/Users/devarora/ml/submodular_nn/submodular_monotone_net.py:36: UserWarning: The use of `x.T` on tensors of dimension other than 2 to reverse their shape is deprecated and it will throw an error in a future release. Consider `x.mT` to transpose batches of matrices or `x.permute(*torch.arange(x.ndim - 1, -1, -1))` to reverse the dimensions of a tensor. (Triggered internally at /Users/runner/work/pytorch/pytorch/pytorch/aten/src/ATen/native/TensorShape.cpp:3701.)\n",
      "  ).T\n"
     ]
    },
    {
     "name": "stdout",
     "output_type": "stream",
     "text": [
      "Epoch 1/100, Loss: 187.0485\n",
      "Epoch 2/100, Loss: 180.3452\n",
      "Epoch 3/100, Loss: 173.8180\n",
      "Epoch 4/100, Loss: 167.4603\n",
      "Epoch 5/100, Loss: 161.2651\n",
      "Epoch 6/100, Loss: 155.2264\n",
      "Epoch 7/100, Loss: 149.3385\n",
      "Epoch 8/100, Loss: 143.5967\n",
      "Epoch 9/100, Loss: 137.9971\n",
      "Epoch 10/100, Loss: 132.5355\n",
      "Epoch 11/100, Loss: 127.2086\n",
      "Epoch 12/100, Loss: 122.0126\n",
      "Epoch 13/100, Loss: 116.9453\n",
      "Epoch 14/100, Loss: 112.0039\n",
      "Epoch 15/100, Loss: 107.1862\n",
      "Epoch 16/100, Loss: 102.4903\n",
      "Epoch 17/100, Loss: 97.9141\n",
      "Epoch 18/100, Loss: 93.4569\n",
      "Epoch 19/100, Loss: 89.1170\n",
      "Epoch 20/100, Loss: 84.8935\n",
      "Epoch 21/100, Loss: 80.7856\n",
      "Epoch 22/100, Loss: 76.7918\n",
      "Epoch 23/100, Loss: 72.9115\n",
      "Epoch 24/100, Loss: 69.1439\n",
      "Epoch 25/100, Loss: 65.4888\n",
      "Epoch 26/100, Loss: 61.9451\n",
      "Epoch 27/100, Loss: 58.5120\n",
      "Epoch 28/100, Loss: 55.1893\n",
      "Epoch 29/100, Loss: 51.9764\n",
      "Epoch 30/100, Loss: 48.8725\n",
      "Epoch 31/100, Loss: 45.8767\n",
      "Epoch 32/100, Loss: 42.9887\n",
      "Epoch 33/100, Loss: 40.2081\n",
      "Epoch 34/100, Loss: 37.5339\n",
      "Epoch 35/100, Loss: 34.9653\n",
      "Epoch 36/100, Loss: 32.5020\n",
      "Epoch 37/100, Loss: 30.1436\n",
      "Epoch 38/100, Loss: 27.8891\n",
      "Epoch 39/100, Loss: 25.7375\n",
      "Epoch 40/100, Loss: 23.6880\n",
      "Epoch 41/100, Loss: 21.7399\n",
      "Epoch 42/100, Loss: 19.8922\n",
      "Epoch 43/100, Loss: 18.1439\n",
      "Epoch 44/100, Loss: 16.4937\n",
      "Epoch 45/100, Loss: 14.9404\n",
      "Epoch 46/100, Loss: 13.4830\n",
      "Epoch 47/100, Loss: 12.1200\n",
      "Epoch 48/100, Loss: 10.8496\n",
      "Epoch 49/100, Loss: 9.6706\n",
      "Epoch 50/100, Loss: 8.5814\n",
      "Epoch 51/100, Loss: 7.5797\n",
      "Epoch 52/100, Loss: 6.6638\n",
      "Epoch 53/100, Loss: 5.8315\n",
      "Epoch 54/100, Loss: 5.0800\n",
      "Epoch 55/100, Loss: 4.4067\n",
      "Epoch 56/100, Loss: 3.8088\n",
      "Epoch 57/100, Loss: 3.2829\n",
      "Epoch 58/100, Loss: 2.8258\n",
      "Epoch 59/100, Loss: 2.4334\n",
      "Epoch 60/100, Loss: 2.1012\n",
      "Epoch 61/100, Loss: 1.8252\n",
      "Epoch 62/100, Loss: 1.6004\n",
      "Epoch 63/100, Loss: 1.4212\n",
      "Epoch 64/100, Loss: 1.2826\n",
      "Epoch 65/100, Loss: 1.1788\n",
      "Epoch 66/100, Loss: 1.1038\n",
      "Epoch 67/100, Loss: 1.0520\n",
      "Epoch 68/100, Loss: 1.0180\n",
      "Epoch 69/100, Loss: 0.9968\n",
      "Epoch 70/100, Loss: 0.9846\n",
      "Epoch 71/100, Loss: 0.9782\n",
      "Epoch 72/100, Loss: 0.9752\n",
      "Epoch 73/100, Loss: 0.9739\n",
      "Epoch 74/100, Loss: 0.9733\n",
      "Epoch 75/100, Loss: 0.9731\n",
      "Epoch 76/100, Loss: 0.9730\n",
      "Epoch 77/100, Loss: 0.9730\n",
      "Epoch 78/100, Loss: 0.9731\n",
      "Epoch 79/100, Loss: 0.9730\n",
      "Epoch 80/100, Loss: 0.9731\n",
      "Epoch 81/100, Loss: 0.9730\n",
      "Epoch 82/100, Loss: 0.9731\n",
      "Epoch 83/100, Loss: 0.9731\n",
      "Epoch 84/100, Loss: 0.9731\n",
      "Epoch 85/100, Loss: 0.9731\n",
      "Epoch 86/100, Loss: 0.9731\n",
      "Epoch 87/100, Loss: 0.9731\n",
      "Epoch 88/100, Loss: 0.9730\n",
      "Epoch 89/100, Loss: 0.9731\n",
      "Epoch 90/100, Loss: 0.9731\n",
      "Epoch 91/100, Loss: 0.9731\n",
      "Epoch 92/100, Loss: 0.9731\n",
      "Epoch 93/100, Loss: 0.9731\n",
      "Epoch 94/100, Loss: 0.9731\n",
      "Epoch 95/100, Loss: 0.9731\n",
      "Epoch 96/100, Loss: 0.9731\n",
      "Epoch 97/100, Loss: 0.9732\n",
      "Epoch 98/100, Loss: 0.9731\n",
      "Epoch 99/100, Loss: 0.9731\n",
      "Epoch 100/100, Loss: 0.9730\n"
     ]
    }
   ],
   "source": [
    "opt = torch.optim.Adam(\n",
    "    params=monotone_network.parameters(), lr=1e-3\n",
    ")\n",
    "\n",
    "num_epochs = 100\n",
    "criterion = torch.nn.MSELoss()\n",
    "\n",
    "for epoch in range(num_epochs):\n",
    "    monotone_network.train()  # Set the model to training mode\n",
    "    running_loss = 0.0\n",
    "    for inputs, labels in train_loader:\n",
    "        opt.zero_grad()  # Zero the parameter gradients\n",
    "        \n",
    "        outputs = monotone_network(inputs.to(torch.float32))  # Forward pass\n",
    "        \n",
    "        loss = criterion(outputs, labels)  # Compute loss\n",
    "        \n",
    "        loss.backward()  # Backward pass\n",
    "        opt.step()  # Update parameters\n",
    "        \n",
    "        running_loss += loss.item() * inputs.size(0)\n",
    "        monotone_network.clamp_weights()\n",
    "    \n",
    "    epoch_loss = running_loss / len(train_loader.dataset)\n",
    "    print(f'Epoch {epoch+1}/{num_epochs}, Loss: {epoch_loss:.4f}')"
   ]
  },
  {
   "cell_type": "code",
   "execution_count": 9,
   "id": "6150c0b3-f845-4f06-8925-5e0b2cd4ccec",
   "metadata": {},
   "outputs": [],
   "source": [
    "# input is a binary mask of length 10000 representing whether the i'th element is chosen \n",
    "# we precompute the m theta for each vector and then dot it with the mask to get the current thing"
   ]
  },
  {
   "cell_type": "code",
   "execution_count": 10,
   "id": "97fffbd3",
   "metadata": {},
   "outputs": [],
   "source": [
    "# input is a binary mask of length 10000 representing whether the i'th element is chosen \n",
    "# we precompute the m theta for each vector and then dot it with the mask to get the current thing"
   ]
  },
  {
   "cell_type": "code",
   "execution_count": null,
   "id": "ecfde343-cd1e-4d18-9482-b9b64b6a3e3c",
   "metadata": {},
   "outputs": [],
   "source": []
  },
  {
   "cell_type": "code",
   "execution_count": null,
   "id": "df5e2316-5dd0-4edd-bcd3-abebca1186d7",
   "metadata": {},
   "outputs": [],
   "source": []
  },
  {
   "cell_type": "code",
   "execution_count": null,
   "id": "86d12fba-2b8a-4eef-ab65-f67828971e15",
   "metadata": {},
   "outputs": [],
   "source": []
  }
 ],
 "metadata": {
  "kernelspec": {
   "display_name": "Submodular NN",
   "language": "python",
   "name": "submodular_nn"
  },
  "language_info": {
   "codemirror_mode": {
    "name": "ipython",
    "version": 3
   },
   "file_extension": ".py",
   "mimetype": "text/x-python",
   "name": "python",
   "nbconvert_exporter": "python",
   "pygments_lexer": "ipython3",
   "version": "3.12.4"
  }
 },
 "nbformat": 4,
 "nbformat_minor": 5
}
