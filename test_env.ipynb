{
 "cells": [
  {
   "cell_type": "code",
   "execution_count": 1,
   "metadata": {},
   "outputs": [],
   "source": [
    "%load_ext autoreload\n",
    "%autoreload 2"
   ]
  },
  {
   "cell_type": "code",
   "execution_count": 1,
   "metadata": {},
   "outputs": [],
   "source": [
    "from prize_grid_env import PrizeGridEnv\n",
    "import torch"
   ]
  },
  {
   "cell_type": "code",
   "execution_count": 3,
   "metadata": {},
   "outputs": [
    {
     "data": {
      "text/plain": [
       "array([1, 0, 1, 0, 1, 0, 2, 0, 0, 0, 0, 0, 1, 2, 1, 0, 2, 0, 0, 0, 0, 2,\n",
       "       3, 0, 3, 3, 0, 0, 0, 0])"
      ]
     },
     "execution_count": 3,
     "metadata": {},
     "output_type": "execute_result"
    }
   ],
   "source": [
    "env = PrizeGridEnv()\n",
    "env.reset()"
   ]
  },
  {
   "cell_type": "code",
   "execution_count": 4,
   "metadata": {},
   "outputs": [
    {
     "name": "stdout",
     "output_type": "stream",
     "text": [
      "[[ 1  0  1  0  1]\n",
      " [ 0  2  0  0  0]\n",
      " [ 0  0  1  2  1]\n",
      " [-1  2  0  0  0]\n",
      " [ 0  2  3  0  3]]\n"
     ]
    }
   ],
   "source": [
    "env.render()"
   ]
  },
  {
   "cell_type": "code",
   "execution_count": 5,
   "metadata": {},
   "outputs": [
    {
     "data": {
      "text/plain": [
       "array([1, 0, 1, 0, 1, 0, 2, 0, 0, 0, 0, 0, 1, 2, 1, 0, 2, 0, 0, 0, 0, 2,\n",
       "       3, 0, 3, 3, 0, 0, 0, 0])"
      ]
     },
     "execution_count": 5,
     "metadata": {},
     "output_type": "execute_result"
    }
   ],
   "source": [
    "env._get_observation()"
   ]
  },
  {
   "cell_type": "code",
   "execution_count": 6,
   "metadata": {},
   "outputs": [
    {
     "data": {
      "text/plain": [
       "array([1, 0, 1, 0, 1, 0, 2, 0, 0, 0, 0, 0, 1, 2, 1, 0, 2, 0, 0, 0, 0, 2,\n",
       "       3, 0, 3, 3, 1, 0, 1, 0])"
      ]
     },
     "execution_count": 6,
     "metadata": {},
     "output_type": "execute_result"
    }
   ],
   "source": [
    "env.step(3)\n",
    "env._get_observation()"
   ]
  },
  {
   "cell_type": "code",
   "execution_count": 7,
   "metadata": {},
   "outputs": [
    {
     "data": {
      "text/plain": [
       "array([2, 1, 1])"
      ]
     },
     "execution_count": 7,
     "metadata": {},
     "output_type": "execute_result"
    }
   ],
   "source": [
    "env.prizes_threshold"
   ]
  },
  {
   "cell_type": "code",
   "execution_count": 8,
   "metadata": {},
   "outputs": [
    {
     "name": "stdout",
     "output_type": "stream",
     "text": [
      "[[ 1  0  1  0  1]\n",
      " [ 0  2  0  0  0]\n",
      " [ 0  0  1  2  1]\n",
      " [ 0 -1  0  0  0]\n",
      " [ 0  2  3  0  3]]\n"
     ]
    }
   ],
   "source": [
    "env.render()"
   ]
  },
  {
   "cell_type": "code",
   "execution_count": 9,
   "metadata": {},
   "outputs": [
    {
     "data": {
      "text/plain": [
       "(array([1, 0, 1, 0, 1, 0, 2, 0, 0, 0, 0, 0, 1, 2, 1, 0, 2, 0, 0, 0, 0, 2,\n",
       "        3, 0, 3, 4, 1, 0, 2, 0]),\n",
       " 0,\n",
       " False,\n",
       " {})"
      ]
     },
     "execution_count": 9,
     "metadata": {},
     "output_type": "execute_result"
    }
   ],
   "source": [
    "env.step(1)"
   ]
  },
  {
   "cell_type": "code",
   "execution_count": 10,
   "metadata": {},
   "outputs": [
    {
     "data": {
      "text/plain": [
       "array([1, 0, 1, 0, 1, 0, 2, 0, 0, 0, 0, 0, 1, 2, 1, 0, 2, 0, 0, 0, 0, 2,\n",
       "       3, 0, 3, 4, 1, 0, 2, 0])"
      ]
     },
     "execution_count": 10,
     "metadata": {},
     "output_type": "execute_result"
    }
   ],
   "source": [
    "env._get_observation()"
   ]
  },
  {
   "cell_type": "code",
   "execution_count": 13,
   "metadata": {},
   "outputs": [
    {
     "data": {
      "text/plain": [
       "30"
      ]
     },
     "execution_count": 13,
     "metadata": {},
     "output_type": "execute_result"
    }
   ],
   "source": [
    "len(env._get_observation())"
   ]
  },
  {
   "cell_type": "code",
   "execution_count": 2,
   "metadata": {},
   "outputs": [],
   "source": [
    "from dqn import IncreasingConcaveNet"
   ]
  },
  {
   "cell_type": "code",
   "execution_count": 3,
   "metadata": {},
   "outputs": [
    {
     "name": "stderr",
     "output_type": "stream",
     "text": [
      "/Users/devarora/ml/submodular_nn/rl/dqn.py:24: UserWarning: To copy construct from a tensor, it is recommended to use sourceTensor.clone().detach() or sourceTensor.clone().detach().requires_grad_(True), rather than torch.tensor(sourceTensor).\n",
      "  torch.tensor(\n",
      "/Users/devarora/ml/submodular_nn/rl/dqn.py:31: UserWarning: To copy construct from a tensor, it is recommended to use sourceTensor.clone().detach() or sourceTensor.clone().detach().requires_grad_(True), rather than torch.tensor(sourceTensor).\n",
      "  torch.tensor(\n"
     ]
    }
   ],
   "source": [
    "net = IncreasingConcaveNet([3, 1])\n",
    "net.clamp_weights()"
   ]
  },
  {
   "cell_type": "code",
   "execution_count": 6,
   "metadata": {},
   "outputs": [
    {
     "name": "stdout",
     "output_type": "stream",
     "text": [
      "tensor([-3.1013e-07], grad_fn=<AddBackward0>)\n",
      "tensor([1.0000], grad_fn=<AddBackward0>)\n",
      "tensor([2.0000], grad_fn=<AddBackward0>)\n",
      "tensor([3.0000], grad_fn=<AddBackward0>)\n"
     ]
    }
   ],
   "source": [
    "print(net(torch.tensor([0, 0, 0], dtype=torch.float)))\n",
    "print(net(torch.tensor([0, 1, 0], dtype=torch.float)))\n",
    "print(net(torch.tensor([1, 1, 0], dtype=torch.float)))\n",
    "print(net(torch.tensor([1, 1, 1], dtype=torch.float)))\n",
    "\n"
   ]
  },
  {
   "cell_type": "code",
   "execution_count": 10,
   "metadata": {},
   "outputs": [
    {
     "name": "stdout",
     "output_type": "stream",
     "text": [
      "tensor([0.0092], grad_fn=<AddBackward0>)\n",
      "tensor([0.9992], grad_fn=<AddBackward0>)\n",
      "tensor([2.0089], grad_fn=<AddBackward0>)\n",
      "tensor([3.0052], grad_fn=<AddBackward0>)\n",
      "------------------------------\n",
      "tensor([0.0148], grad_fn=<AddBackward0>)\n",
      "tensor([0.9825], grad_fn=<AddBackward0>)\n",
      "tensor([1.9760], grad_fn=<AddBackward0>)\n",
      "tensor([2.9758], grad_fn=<AddBackward0>)\n",
      "------------------------------\n",
      "tensor([0.0164], grad_fn=<AddBackward0>)\n",
      "tensor([0.9795], grad_fn=<AddBackward0>)\n",
      "tensor([1.9823], grad_fn=<AddBackward0>)\n",
      "tensor([2.9810], grad_fn=<AddBackward0>)\n",
      "------------------------------\n",
      "tensor([0.0199], grad_fn=<AddBackward0>)\n",
      "tensor([0.9812], grad_fn=<AddBackward0>)\n",
      "tensor([1.9905], grad_fn=<AddBackward0>)\n",
      "tensor([2.9894], grad_fn=<AddBackward0>)\n",
      "------------------------------\n",
      "tensor([0.0155], grad_fn=<AddBackward0>)\n",
      "tensor([0.9946], grad_fn=<AddBackward0>)\n",
      "tensor([1.9901], grad_fn=<AddBackward0>)\n",
      "tensor([2.9937], grad_fn=<AddBackward0>)\n",
      "------------------------------\n",
      "tensor([0.0147], grad_fn=<AddBackward0>)\n",
      "tensor([0.9949], grad_fn=<AddBackward0>)\n",
      "tensor([1.9838], grad_fn=<AddBackward0>)\n",
      "tensor([2.9883], grad_fn=<AddBackward0>)\n",
      "------------------------------\n",
      "tensor([0.0194], grad_fn=<AddBackward0>)\n",
      "tensor([0.9863], grad_fn=<AddBackward0>)\n",
      "tensor([1.9875], grad_fn=<AddBackward0>)\n",
      "tensor([2.9899], grad_fn=<AddBackward0>)\n",
      "------------------------------\n",
      "tensor([0.0228], grad_fn=<AddBackward0>)\n",
      "tensor([0.9962], grad_fn=<AddBackward0>)\n",
      "tensor([1.9966], grad_fn=<AddBackward0>)\n",
      "tensor([3.0033], grad_fn=<AddBackward0>)\n",
      "------------------------------\n",
      "tensor([0.0242], grad_fn=<AddBackward0>)\n",
      "tensor([0.9868], grad_fn=<AddBackward0>)\n",
      "tensor([1.9756], grad_fn=<AddBackward0>)\n",
      "tensor([2.9910], grad_fn=<AddBackward0>)\n",
      "------------------------------\n",
      "tensor([0.0240], grad_fn=<AddBackward0>)\n",
      "tensor([0.9850], grad_fn=<AddBackward0>)\n",
      "tensor([1.9691], grad_fn=<AddBackward0>)\n",
      "tensor([2.9856], grad_fn=<AddBackward0>)\n",
      "------------------------------\n",
      "tensor([0.0411], grad_fn=<AddBackward0>)\n",
      "tensor([1.0068], grad_fn=<AddBackward0>)\n",
      "tensor([1.9814], grad_fn=<AddBackward0>)\n",
      "tensor([3.0200], grad_fn=<AddBackward0>)\n",
      "------------------------------\n",
      "tensor([0.0391], grad_fn=<AddBackward0>)\n",
      "tensor([1.0037], grad_fn=<AddBackward0>)\n",
      "tensor([1.9821], grad_fn=<AddBackward0>)\n",
      "tensor([2.9923], grad_fn=<AddBackward0>)\n",
      "------------------------------\n",
      "tensor([0.0369], grad_fn=<AddBackward0>)\n",
      "tensor([1.0044], grad_fn=<AddBackward0>)\n",
      "tensor([1.9838], grad_fn=<AddBackward0>)\n",
      "tensor([2.9840], grad_fn=<AddBackward0>)\n",
      "------------------------------\n",
      "tensor([0.0356], grad_fn=<AddBackward0>)\n",
      "tensor([1.0093], grad_fn=<AddBackward0>)\n",
      "tensor([1.9930], grad_fn=<AddBackward0>)\n",
      "tensor([2.9911], grad_fn=<AddBackward0>)\n",
      "------------------------------\n",
      "tensor([0.0365], grad_fn=<AddBackward0>)\n",
      "tensor([1.0191], grad_fn=<AddBackward0>)\n",
      "tensor([1.9943], grad_fn=<AddBackward0>)\n",
      "tensor([3.0057], grad_fn=<AddBackward0>)\n",
      "------------------------------\n",
      "tensor([0.0317], grad_fn=<AddBackward0>)\n",
      "tensor([1.0071], grad_fn=<AddBackward0>)\n",
      "tensor([1.9787], grad_fn=<AddBackward0>)\n",
      "tensor([2.9999], grad_fn=<AddBackward0>)\n",
      "------------------------------\n",
      "tensor([0.0305], grad_fn=<AddBackward0>)\n",
      "tensor([0.9924], grad_fn=<AddBackward0>)\n",
      "tensor([1.9791], grad_fn=<AddBackward0>)\n",
      "tensor([3.0121], grad_fn=<AddBackward0>)\n",
      "------------------------------\n",
      "tensor([0.0529], grad_fn=<AddBackward0>)\n",
      "tensor([1.0084], grad_fn=<AddBackward0>)\n",
      "tensor([1.9904], grad_fn=<AddBackward0>)\n",
      "tensor([3.0188], grad_fn=<AddBackward0>)\n",
      "------------------------------\n",
      "tensor([0.0467], grad_fn=<AddBackward0>)\n",
      "tensor([1.0044], grad_fn=<AddBackward0>)\n",
      "tensor([1.9942], grad_fn=<AddBackward0>)\n",
      "tensor([3.0412], grad_fn=<AddBackward0>)\n",
      "------------------------------\n",
      "tensor([0.0428], grad_fn=<AddBackward0>)\n",
      "tensor([1.0053], grad_fn=<AddBackward0>)\n",
      "tensor([1.9998], grad_fn=<AddBackward0>)\n",
      "tensor([3.0668], grad_fn=<AddBackward0>)\n",
      "------------------------------\n"
     ]
    }
   ],
   "source": [
    "for i in range(20):\n",
    "    for param in net.parameters():\n",
    "        if param.requires_grad:\n",
    "            noise = torch.randn_like(param) * 0.01\n",
    "            param.data.add_(noise)\n",
    "    net.clamp_weights()\n",
    "\n",
    "    print(net(torch.tensor([0, 0, 0], dtype=torch.float)))\n",
    "    print(net(torch.tensor([0, 1, 0], dtype=torch.float)))\n",
    "    print(net(torch.tensor([1, 1, 0], dtype=torch.float)))\n",
    "    print(net(torch.tensor([1, 1, 1], dtype=torch.float)))\n",
    "    print(\"-\" * 30)\n",
    "\n",
    "\n"
   ]
  },
  {
   "cell_type": "code",
   "execution_count": null,
   "metadata": {},
   "outputs": [],
   "source": []
  }
 ],
 "metadata": {
  "kernelspec": {
   "display_name": "submodular_nn",
   "language": "python",
   "name": "python3"
  },
  "language_info": {
   "codemirror_mode": {
    "name": "ipython",
    "version": 3
   },
   "file_extension": ".py",
   "mimetype": "text/x-python",
   "name": "python",
   "nbconvert_exporter": "python",
   "pygments_lexer": "ipython3",
   "version": "3.12.4"
  },
  "orig_nbformat": 4
 },
 "nbformat": 4,
 "nbformat_minor": 2
}
