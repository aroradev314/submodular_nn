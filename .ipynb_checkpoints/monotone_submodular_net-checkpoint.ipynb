{
 "cells": [
  {
   "cell_type": "code",
   "execution_count": 1,
   "id": "10c07855-aa8d-45fb-ade2-edb7e935997c",
   "metadata": {},
   "outputs": [],
   "source": [
    "%load_ext autoreload\n",
    "%autoreload 2"
   ]
  },
  {
   "cell_type": "code",
   "execution_count": 46,
   "id": "22e9bbf3-5dc6-4dbc-986b-819665146b57",
   "metadata": {},
   "outputs": [],
   "source": [
    "from submodular_monotone_net import SubmodularMonotoneNet\n",
    "from submodular_net import SubmodularNet\n",
    "import torch\n",
    "from tqdm import trange\n",
    "import numpy as np\n",
    "import matplotlib.pyplot as plt\n",
    "%matplotlib inline"
   ]
  },
  {
   "cell_type": "code",
   "execution_count": 48,
   "id": "bd790256-0010-4a7c-ac75-a5fab1292ac7",
   "metadata": {},
   "outputs": [
    {
     "name": "stderr",
     "output_type": "stream",
     "text": [
      "/Users/devarora/ml/submodular_nn/increasing_convex_net.py:18: UserWarning: To copy construct from a tensor, it is recommended to use sourceTensor.clone().detach() or sourceTensor.clone().detach().requires_grad_(True), rather than torch.tensor(sourceTensor).\n",
      "  torch.tensor(\n",
      "/Users/devarora/ml/submodular_nn/increasing_convex_net.py:25: UserWarning: To copy construct from a tensor, it is recommended to use sourceTensor.clone().detach() or sourceTensor.clone().detach().requires_grad_(True), rather than torch.tensor(sourceTensor).\n",
      "  torch.tensor(\n"
     ]
    }
   ],
   "source": [
    "monotone_network = SubmodularMonotoneNet(5, 0.5, 1, [1, 100, 100, 1])"
   ]
  },
  {
   "cell_type": "code",
   "execution_count": 49,
   "id": "5eda7b0c-a273-44ad-a158-5e9e5c538071",
   "metadata": {
    "scrolled": true
   },
   "outputs": [
    {
     "data": {
      "text/plain": [
       "SubmodularMonotoneNet(\n",
       "  (phi): IncreasingConvexNet(\n",
       "    (Ws): ParameterList(\n",
       "        (0): Parameter containing: [torch.float32 of size 100x1]\n",
       "        (1): Parameter containing: [torch.float32 of size 100x100]\n",
       "        (2): Parameter containing: [torch.float32 of size 1x100]\n",
       "    )\n",
       "    (bs): ParameterList(\n",
       "        (0): Parameter containing: [torch.float32 of size 100]\n",
       "        (1): Parameter containing: [torch.float32 of size 100]\n",
       "        (2): Parameter containing: [torch.float32 of size 1]\n",
       "    )\n",
       "  )\n",
       "  (m): ModuleList(\n",
       "    (0-4): 5 x Linear(in_features=1, out_features=1, bias=True)\n",
       "  )\n",
       ")"
      ]
     },
     "execution_count": 49,
     "metadata": {},
     "output_type": "execute_result"
    }
   ],
   "source": [
    "monotone_network.clamp_weights()\n",
    "# monotone_network.activ = lambda x: torch.min(torch.zeros_like(x), x)\n",
    "\n",
    "monotone_network\n",
    "\n",
    "# with torch.no_grad():\n",
    "    # for layer in monotone_network.phi.bs:\n",
    "      #   layer.data = torch.clamp(layer.data, 0, torch.inf)\n",
    "    \n",
    "    # for i in range(monotone_network.layers):\n",
    "    #     monotone_network.m[i].bias.clamp_(0, torch.inf)"
   ]
  },
  {
   "cell_type": "code",
   "execution_count": 20,
   "id": "f4bf3965-373e-4a0f-b7d3-69cd242d9df3",
   "metadata": {},
   "outputs": [],
   "source": [
    "class TParams:\n",
    "    def __init__(self, lr=0.001, b1=None, b2=None, iters=int(1e3)):\n",
    "        self.lr = lr\n",
    "        self.b1 = b1\n",
    "        self.b2 = b2\n",
    "        self.iters = iters\n",
    "\n",
    "    def __str__(self):\n",
    "        return json.dumps(\n",
    "            {\"lr\": self.lr, \"b1\": self.b1, \"b2\": self.b2, \"iters\": self.iters}\n",
    "        )"
   ]
  },
  {
   "cell_type": "code",
   "execution_count": 21,
   "id": "f6ebe3e9-869a-4fef-baf4-5d7de0dc7ac6",
   "metadata": {},
   "outputs": [],
   "source": [
    "def loss(x, y):\n",
    "    return torch.sum((monotone_network.forward(x) - y) ** 2)"
   ]
  },
  {
   "cell_type": "code",
   "execution_count": 36,
   "id": "5138cd55-043d-4829-b227-3fb626fc13e9",
   "metadata": {},
   "outputs": [],
   "source": [
    "def train(net, fit_fn, a, b, dx, tparams, verbose=True):\n",
    "    \"\"\"\n",
    "    Train the net to minimize a least squares objective between itself and the given fit_fn on the interval [a, b]\n",
    "    by fitting regularly sampled points [a, a+dx, a+2dx, ..., b].\n",
    "\n",
    "    fit_fn - (np.ndarray) -> (np.ndarray): map an input tensor to an output tensor\n",
    "    a - (torch.float32): beginning of interval\n",
    "    b - (torch.float32): end of interval\n",
    "    dx - (torch.float32): step size\n",
    "    tparams - TParams: parameters to use for training\n",
    "    \"\"\"\n",
    "    x = torch.tensor(\n",
    "        torch.arange(a, b, dx), dtype=torch.float32\n",
    "    ).view([-1, 1])\n",
    "    y = fit_fn(x)\n",
    "\n",
    "    opt = torch.optim.Adam(\n",
    "        params=net.parameters(), lr=tparams.lr\n",
    "    )\n",
    "\n",
    "    if verbose:\n",
    "        rng = trange(tparams.iters)\n",
    "    else:\n",
    "        rng = range(tparams.iters)\n",
    "\n",
    "    for itr in rng:\n",
    "        opt.zero_grad()\n",
    "        loss_this_itr = loss(x, y)\n",
    "        if (itr % 100 == 0):\n",
    "            if (!verbose): print(f\"Iteration: {itr + 1}\")\n",
    "            print(loss_this_itr)\n",
    "        loss_this_itr.backward()\n",
    "        opt.step()\n",
    "        # monotone_network.clamp_weights()\n"
   ]
  },
  {
   "cell_type": "code",
   "execution_count": 37,
   "id": "090e7eda-d234-4d4e-a853-f6e245159fbd",
   "metadata": {},
   "outputs": [],
   "source": [
    "def plot(net, fit_fn, a, b, dx):\n",
    "    x = torch.arange(a, b, dx)\n",
    "    x_pt = torch.tensor(x, dtype=torch.float32).view([-1, 1])\n",
    "    y_true = fit_fn(x)\n",
    "    y_est = net.forward(x_pt).cpu().detach().numpy()\n",
    "\n",
    "    plt.plot(x, y_true, label=\"True\")\n",
    "    plt.plot(x, y_est, label=\"Estimate\")\n",
    "    plt.show()\n"
   ]
  },
  {
   "cell_type": "code",
   "execution_count": 38,
   "id": "2ddbc99d-410b-4ca3-9a32-ea209f73de24",
   "metadata": {},
   "outputs": [],
   "source": [
    "fit_fn = lambda x : torch.ones_like(x) - torch.exp(-x)\n",
    "# fit_fn = lambda x : -(x ** 2)\n",
    "a = -10\n",
    "b = 10\n",
    "dx = 0.1\n",
    "\n",
    "tparams = TParams(iters=int(5e3))"
   ]
  },
  {
   "cell_type": "code",
   "execution_count": 39,
   "id": "fa284246-1368-43ef-8214-785bf49509a9",
   "metadata": {},
   "outputs": [
    {
     "name": "stderr",
     "output_type": "stream",
     "text": [
      "/var/folders/6z/xg9c2xxn1lg34383kjmcgxfw0000gn/T/ipykernel_10184/2842728982.py:12: UserWarning: To copy construct from a tensor, it is recommended to use sourceTensor.clone().detach() or sourceTensor.clone().detach().requires_grad_(True), rather than torch.tensor(sourceTensor).\n",
      "  x = torch.tensor(\n",
      "  2%|▌                                     | 79/5000 [00:00<00:12, 387.56it/s]"
     ]
    },
    {
     "name": "stdout",
     "output_type": "stream",
     "text": [
      "tensor(298362.1250, grad_fn=<SumBackward0>)\n"
     ]
    },
    {
     "name": "stderr",
     "output_type": "stream",
     "text": [
      "  3%|█▏                                   | 161/5000 [00:00<00:12, 391.68it/s]"
     ]
    },
    {
     "name": "stdout",
     "output_type": "stream",
     "text": [
      "tensor(139451.5156, grad_fn=<SumBackward0>)\n"
     ]
    },
    {
     "name": "stderr",
     "output_type": "stream",
     "text": [
      "  5%|█▊                                   | 243/5000 [00:00<00:12, 396.39it/s]"
     ]
    },
    {
     "name": "stdout",
     "output_type": "stream",
     "text": [
      "tensor(136608.5938, grad_fn=<SumBackward0>)\n"
     ]
    },
    {
     "name": "stderr",
     "output_type": "stream",
     "text": [
      "  8%|██▊                                  | 376/5000 [00:00<00:10, 433.17it/s]"
     ]
    },
    {
     "name": "stdout",
     "output_type": "stream",
     "text": [
      "tensor(135940.9062, grad_fn=<SumBackward0>)\n"
     ]
    },
    {
     "name": "stderr",
     "output_type": "stream",
     "text": [
      "  9%|███▍                                 | 471/5000 [00:01<00:10, 450.71it/s]"
     ]
    },
    {
     "name": "stdout",
     "output_type": "stream",
     "text": [
      "tensor(135449.2812, grad_fn=<SumBackward0>)\n"
     ]
    },
    {
     "name": "stderr",
     "output_type": "stream",
     "text": [
      " 11%|████▏                                | 568/5000 [00:01<00:09, 467.29it/s]"
     ]
    },
    {
     "name": "stdout",
     "output_type": "stream",
     "text": [
      "tensor(135002.1250, grad_fn=<SumBackward0>)\n",
      "tensor(134534.5312, grad_fn=<SumBackward0>)\n"
     ]
    },
    {
     "name": "stderr",
     "output_type": "stream",
     "text": [
      " 15%|█████▋                               | 770/5000 [00:01<00:08, 492.44it/s]"
     ]
    },
    {
     "name": "stdout",
     "output_type": "stream",
     "text": [
      "tensor(133997.8594, grad_fn=<SumBackward0>)\n"
     ]
    },
    {
     "name": "stderr",
     "output_type": "stream",
     "text": [
      " 17%|██████▍                              | 869/5000 [00:01<00:08, 487.05it/s]"
     ]
    },
    {
     "name": "stdout",
     "output_type": "stream",
     "text": [
      "tensor(133449.4531, grad_fn=<SumBackward0>)\n"
     ]
    },
    {
     "name": "stderr",
     "output_type": "stream",
     "text": [
      " 19%|███████▏                             | 968/5000 [00:02<00:08, 487.89it/s]"
     ]
    },
    {
     "name": "stdout",
     "output_type": "stream",
     "text": [
      "tensor(132839.5469, grad_fn=<SumBackward0>)\n"
     ]
    },
    {
     "name": "stderr",
     "output_type": "stream",
     "text": [
      " 21%|███████▋                            | 1066/5000 [00:02<00:08, 480.49it/s]"
     ]
    },
    {
     "name": "stdout",
     "output_type": "stream",
     "text": [
      "tensor(132201.0938, grad_fn=<SumBackward0>)\n"
     ]
    },
    {
     "name": "stderr",
     "output_type": "stream",
     "text": [
      " 23%|████████▍                           | 1164/5000 [00:02<00:08, 477.99it/s]"
     ]
    },
    {
     "name": "stdout",
     "output_type": "stream",
     "text": [
      "tensor(131490.7344, grad_fn=<SumBackward0>)\n"
     ]
    },
    {
     "name": "stderr",
     "output_type": "stream",
     "text": [
      " 25%|█████████                           | 1260/5000 [00:02<00:07, 475.57it/s]"
     ]
    },
    {
     "name": "stdout",
     "output_type": "stream",
     "text": [
      "tensor(130776.6719, grad_fn=<SumBackward0>)\n"
     ]
    },
    {
     "name": "stderr",
     "output_type": "stream",
     "text": [
      " 27%|█████████▊                          | 1358/5000 [00:02<00:07, 479.41it/s]"
     ]
    },
    {
     "name": "stdout",
     "output_type": "stream",
     "text": [
      "tensor(130063.2656, grad_fn=<SumBackward0>)\n"
     ]
    },
    {
     "name": "stderr",
     "output_type": "stream",
     "text": [
      " 29%|██████████▍                         | 1454/5000 [00:03<00:07, 472.72it/s]"
     ]
    },
    {
     "name": "stdout",
     "output_type": "stream",
     "text": [
      "tensor(129258.9688, grad_fn=<SumBackward0>)\n"
     ]
    },
    {
     "name": "stderr",
     "output_type": "stream",
     "text": [
      " 31%|███████████▏                        | 1551/5000 [00:03<00:07, 475.23it/s]"
     ]
    },
    {
     "name": "stdout",
     "output_type": "stream",
     "text": [
      "tensor(128402.9062, grad_fn=<SumBackward0>)\n"
     ]
    },
    {
     "name": "stderr",
     "output_type": "stream",
     "text": [
      " 33%|███████████▊                        | 1647/5000 [00:03<00:07, 473.37it/s]"
     ]
    },
    {
     "name": "stdout",
     "output_type": "stream",
     "text": [
      "tensor(127576.3828, grad_fn=<SumBackward0>)\n"
     ]
    },
    {
     "name": "stderr",
     "output_type": "stream",
     "text": [
      " 36%|████████████▉                       | 1792/5000 [00:03<00:06, 475.30it/s]"
     ]
    },
    {
     "name": "stdout",
     "output_type": "stream",
     "text": [
      "tensor(126771.7422, grad_fn=<SumBackward0>)\n"
     ]
    },
    {
     "name": "stderr",
     "output_type": "stream",
     "text": [
      " 38%|█████████████▌                      | 1888/5000 [00:04<00:06, 470.11it/s]"
     ]
    },
    {
     "name": "stdout",
     "output_type": "stream",
     "text": [
      "tensor(126248.4844, grad_fn=<SumBackward0>)\n"
     ]
    },
    {
     "name": "stderr",
     "output_type": "stream",
     "text": [
      " 40%|██████████████▎                     | 1983/5000 [00:04<00:06, 467.81it/s]"
     ]
    },
    {
     "name": "stdout",
     "output_type": "stream",
     "text": [
      "tensor(125810.5781, grad_fn=<SumBackward0>)\n"
     ]
    },
    {
     "name": "stderr",
     "output_type": "stream",
     "text": [
      " 42%|██████████████▉                     | 2076/5000 [00:04<00:06, 447.25it/s]"
     ]
    },
    {
     "name": "stdout",
     "output_type": "stream",
     "text": [
      "tensor(253619.8750, grad_fn=<SumBackward0>)\n"
     ]
    },
    {
     "name": "stderr",
     "output_type": "stream",
     "text": [
      " 43%|███████████████▌                    | 2170/5000 [00:04<00:06, 456.51it/s]"
     ]
    },
    {
     "name": "stdout",
     "output_type": "stream",
     "text": [
      "tensor(243528.0781, grad_fn=<SumBackward0>)\n"
     ]
    },
    {
     "name": "stderr",
     "output_type": "stream",
     "text": [
      " 45%|████████████████▎                   | 2265/5000 [00:04<00:05, 464.40it/s]"
     ]
    },
    {
     "name": "stdout",
     "output_type": "stream",
     "text": [
      "tensor(307516., grad_fn=<SumBackward0>)\n"
     ]
    },
    {
     "name": "stderr",
     "output_type": "stream",
     "text": [
      " 47%|████████████████▉                   | 2360/5000 [00:05<00:05, 451.78it/s]"
     ]
    },
    {
     "name": "stdout",
     "output_type": "stream",
     "text": [
      "tensor(247822.6094, grad_fn=<SumBackward0>)\n"
     ]
    },
    {
     "name": "stderr",
     "output_type": "stream",
     "text": [
      " 49%|█████████████████▋                  | 2453/5000 [00:05<00:05, 454.75it/s]"
     ]
    },
    {
     "name": "stdout",
     "output_type": "stream",
     "text": [
      "tensor(285366.9375, grad_fn=<SumBackward0>)\n"
     ]
    },
    {
     "name": "stderr",
     "output_type": "stream",
     "text": [
      " 52%|██████████████████▋                 | 2591/5000 [00:05<00:05, 455.92it/s]"
     ]
    },
    {
     "name": "stdout",
     "output_type": "stream",
     "text": [
      "tensor(190744.0625, grad_fn=<SumBackward0>)\n"
     ]
    },
    {
     "name": "stderr",
     "output_type": "stream",
     "text": [
      " 54%|███████████████████▎                | 2686/5000 [00:05<00:05, 460.51it/s]"
     ]
    },
    {
     "name": "stdout",
     "output_type": "stream",
     "text": [
      "tensor(182834.8438, grad_fn=<SumBackward0>)\n"
     ]
    },
    {
     "name": "stderr",
     "output_type": "stream",
     "text": [
      " 56%|████████████████████                | 2781/5000 [00:06<00:04, 465.61it/s]"
     ]
    },
    {
     "name": "stdout",
     "output_type": "stream",
     "text": [
      "tensor(241780.8281, grad_fn=<SumBackward0>)\n"
     ]
    },
    {
     "name": "stderr",
     "output_type": "stream",
     "text": [
      " 57%|████████████████████▋               | 2875/5000 [00:06<00:04, 460.55it/s]"
     ]
    },
    {
     "name": "stdout",
     "output_type": "stream",
     "text": [
      "tensor(376694.1875, grad_fn=<SumBackward0>)\n"
     ]
    },
    {
     "name": "stderr",
     "output_type": "stream",
     "text": [
      " 59%|█████████████████████▍              | 2969/5000 [00:06<00:04, 461.27it/s]"
     ]
    },
    {
     "name": "stdout",
     "output_type": "stream",
     "text": [
      "tensor(565989.5000, grad_fn=<SumBackward0>)\n"
     ]
    },
    {
     "name": "stderr",
     "output_type": "stream",
     "text": [
      " 61%|██████████████████████              | 3063/5000 [00:06<00:04, 462.97it/s]"
     ]
    },
    {
     "name": "stdout",
     "output_type": "stream",
     "text": [
      "tensor(371898.8750, grad_fn=<SumBackward0>)\n"
     ]
    },
    {
     "name": "stderr",
     "output_type": "stream",
     "text": [
      " 63%|██████████████████████▋             | 3158/5000 [00:06<00:03, 463.54it/s]"
     ]
    },
    {
     "name": "stdout",
     "output_type": "stream",
     "text": [
      "tensor(126390.7109, grad_fn=<SumBackward0>)\n"
     ]
    },
    {
     "name": "stderr",
     "output_type": "stream",
     "text": [
      " 65%|███████████████████████▍            | 3253/5000 [00:07<00:03, 463.46it/s]"
     ]
    },
    {
     "name": "stdout",
     "output_type": "stream",
     "text": [
      "tensor(368358.7500, grad_fn=<SumBackward0>)\n"
     ]
    },
    {
     "name": "stderr",
     "output_type": "stream",
     "text": [
      " 67%|████████████████████████            | 3347/5000 [00:07<00:04, 381.12it/s]"
     ]
    },
    {
     "name": "stdout",
     "output_type": "stream",
     "text": [
      "tensor(136345.9375, grad_fn=<SumBackward0>)\n"
     ]
    },
    {
     "name": "stderr",
     "output_type": "stream",
     "text": [
      " 70%|█████████████████████████▏          | 3490/5000 [00:07<00:03, 436.12it/s]"
     ]
    },
    {
     "name": "stdout",
     "output_type": "stream",
     "text": [
      "tensor(239372.0625, grad_fn=<SumBackward0>)\n"
     ]
    },
    {
     "name": "stderr",
     "output_type": "stream",
     "text": [
      " 72%|█████████████████████████▊          | 3584/5000 [00:07<00:03, 452.50it/s]"
     ]
    },
    {
     "name": "stdout",
     "output_type": "stream",
     "text": [
      "tensor(237751.9375, grad_fn=<SumBackward0>)\n"
     ]
    },
    {
     "name": "stderr",
     "output_type": "stream",
     "text": [
      " 74%|██████████████████████████▍         | 3679/5000 [00:08<00:02, 455.35it/s]"
     ]
    },
    {
     "name": "stdout",
     "output_type": "stream",
     "text": [
      "tensor(115270.6172, grad_fn=<SumBackward0>)\n"
     ]
    },
    {
     "name": "stderr",
     "output_type": "stream",
     "text": [
      " 75%|███████████████████████████▏        | 3770/5000 [00:08<00:02, 437.85it/s]"
     ]
    },
    {
     "name": "stdout",
     "output_type": "stream",
     "text": [
      "tensor(114638.6094, grad_fn=<SumBackward0>)\n"
     ]
    },
    {
     "name": "stderr",
     "output_type": "stream",
     "text": [
      " 77%|███████████████████████████▊        | 3863/5000 [00:08<00:02, 449.07it/s]"
     ]
    },
    {
     "name": "stdout",
     "output_type": "stream",
     "text": [
      "tensor(154348.7656, grad_fn=<SumBackward0>)\n"
     ]
    },
    {
     "name": "stderr",
     "output_type": "stream",
     "text": [
      " 79%|████████████████████████████▍       | 3956/5000 [00:08<00:02, 454.09it/s]"
     ]
    },
    {
     "name": "stdout",
     "output_type": "stream",
     "text": [
      "tensor(146365.7344, grad_fn=<SumBackward0>)\n"
     ]
    },
    {
     "name": "stderr",
     "output_type": "stream",
     "text": [
      " 81%|█████████████████████████████▏      | 4052/5000 [00:08<00:02, 463.84it/s]"
     ]
    },
    {
     "name": "stdout",
     "output_type": "stream",
     "text": [
      "tensor(206416.1250, grad_fn=<SumBackward0>)\n"
     ]
    },
    {
     "name": "stderr",
     "output_type": "stream",
     "text": [
      " 83%|█████████████████████████████▊      | 4146/5000 [00:09<00:01, 463.78it/s]"
     ]
    },
    {
     "name": "stdout",
     "output_type": "stream",
     "text": [
      "tensor(321867.8125, grad_fn=<SumBackward0>)\n"
     ]
    },
    {
     "name": "stderr",
     "output_type": "stream",
     "text": [
      " 86%|██████████████████████████████▊     | 4288/5000 [00:09<00:01, 464.94it/s]"
     ]
    },
    {
     "name": "stdout",
     "output_type": "stream",
     "text": [
      "tensor(117941.9219, grad_fn=<SumBackward0>)\n"
     ]
    },
    {
     "name": "stderr",
     "output_type": "stream",
     "text": [
      " 88%|███████████████████████████████▌    | 4383/5000 [00:09<00:01, 463.94it/s]"
     ]
    },
    {
     "name": "stdout",
     "output_type": "stream",
     "text": [
      "tensor(277442.1250, grad_fn=<SumBackward0>)\n"
     ]
    },
    {
     "name": "stderr",
     "output_type": "stream",
     "text": [
      " 90%|████████████████████████████████▏   | 4477/5000 [00:09<00:01, 462.87it/s]"
     ]
    },
    {
     "name": "stdout",
     "output_type": "stream",
     "text": [
      "tensor(280756.7500, grad_fn=<SumBackward0>)\n"
     ]
    },
    {
     "name": "stderr",
     "output_type": "stream",
     "text": [
      " 91%|████████████████████████████████▉   | 4572/5000 [00:10<00:00, 451.69it/s]"
     ]
    },
    {
     "name": "stdout",
     "output_type": "stream",
     "text": [
      "tensor(128794.0859, grad_fn=<SumBackward0>)\n"
     ]
    },
    {
     "name": "stderr",
     "output_type": "stream",
     "text": [
      " 93%|█████████████████████████████████▌  | 4665/5000 [00:10<00:00, 438.67it/s]"
     ]
    },
    {
     "name": "stdout",
     "output_type": "stream",
     "text": [
      "tensor(142753.8438, grad_fn=<SumBackward0>)\n"
     ]
    },
    {
     "name": "stderr",
     "output_type": "stream",
     "text": [
      " 95%|██████████████████████████████████▎ | 4759/5000 [00:10<00:00, 452.37it/s]"
     ]
    },
    {
     "name": "stdout",
     "output_type": "stream",
     "text": [
      "tensor(343982.0625, grad_fn=<SumBackward0>)\n"
     ]
    },
    {
     "name": "stderr",
     "output_type": "stream",
     "text": [
      " 97%|██████████████████████████████████▉ | 4850/5000 [00:10<00:00, 438.46it/s]"
     ]
    },
    {
     "name": "stdout",
     "output_type": "stream",
     "text": [
      "tensor(166053.6406, grad_fn=<SumBackward0>)\n"
     ]
    },
    {
     "name": "stderr",
     "output_type": "stream",
     "text": [
      "100%|███████████████████████████████████▉| 4986/5000 [00:10<00:00, 442.41it/s]"
     ]
    },
    {
     "name": "stdout",
     "output_type": "stream",
     "text": [
      "tensor(153908.4375, grad_fn=<SumBackward0>)\n"
     ]
    },
    {
     "name": "stderr",
     "output_type": "stream",
     "text": [
      "100%|████████████████████████████████████| 5000/5000 [00:11<00:00, 454.08it/s]\n"
     ]
    }
   ],
   "source": [
    "train(monotone_network, fit_fn, a, b, dx, tparams, verbose=False)"
   ]
  },
  {
   "cell_type": "code",
   "execution_count": 35,
   "id": "54bef2d8-8046-4462-87b8-b24671abcea2",
   "metadata": {},
   "outputs": [
    {
     "name": "stderr",
     "output_type": "stream",
     "text": [
      "/var/folders/6z/xg9c2xxn1lg34383kjmcgxfw0000gn/T/ipykernel_10184/769921960.py:3: UserWarning: To copy construct from a tensor, it is recommended to use sourceTensor.clone().detach() or sourceTensor.clone().detach().requires_grad_(True), rather than torch.tensor(sourceTensor).\n",
      "  x_pt = torch.tensor(x, dtype=torch.float32).view([-1, 1])\n"
     ]
    },
    {
     "data": {
      "image/png": "[encoded data removed]",
      "text/plain": [
       "<Figure size 640x480 with 1 Axes>"
      ]
     },
     "metadata": {},
     "output_type": "display_data"
    }
   ],
   "source": [
    "plot(monotone_network, fit_fn, a, b, dx)"
   ]
  },
  {
   "cell_type": "code",
   "execution_count": 51,
   "id": "04174599-4a54-45e0-8857-dc8de19362a8",
   "metadata": {},
   "outputs": [
    {
     "name": "stderr",
     "output_type": "stream",
     "text": [
      "/Users/devarora/ml/submodular_nn/icnn.py:19: UserWarning: To copy construct from a tensor, it is recommended to use sourceTensor.clone().detach() or sourceTensor.clone().detach().requires_grad_(True), rather than torch.tensor(sourceTensor).\n",
      "  torch.normal(0.0, 1e-4, size=(odim, idim)), device=self.device\n",
      "/Users/devarora/ml/submodular_nn/icnn.py:27: UserWarning: To copy construct from a tensor, it is recommended to use sourceTensor.clone().detach() or sourceTensor.clone().detach().requires_grad_(True), rather than torch.tensor(sourceTensor).\n",
      "  )\n",
      "/Users/devarora/ml/submodular_nn/icnn.py:32: UserWarning: To copy construct from a tensor, it is recommended to use sourceTensor.clone().detach() or sourceTensor.clone().detach().requires_grad_(True), rather than torch.tensor(sourceTensor).\n",
      "  # self.activ = lambda x: torch.ones_like(x) - torch.exp(-x)\n"
     ]
    }
   ],
   "source": [
    "network = SubmodularNet([1, 100, 100, 1], 1)"
   ]
  },
  {
   "cell_type": "code",
   "execution_count": null,
   "id": "6e297de3-ed68-4e37-bd8a-22a168d1bd2b",
   "metadata": {},
   "outputs": [],
   "source": [
    "fit_fn = lambda x : torch.ones_like(x) - torch.exp(-x)\n",
    "# fit_fn = lambda x : -(x ** 2)\n",
    "a = -10\n",
    "b = 10\n",
    "dx = 0.1\n",
    "\n",
    "tparams = TParams(iters=int(5e3))\n",
    "\n",
    "train(fit_fn, a, b, dx, tparams, verbose=False)"
   ]
  },
  {
   "cell_type": "code",
   "execution_count": null,
   "id": "460ccccb-5d39-448f-a26f-47973d0a2e52",
   "metadata": {},
   "outputs": [],
   "source": []
  }
 ],
 "metadata": {
  "kernelspec": {
   "display_name": "Submodular NN",
   "language": "python",
   "name": "submodular_nn"
  },
  "language_info": {
   "codemirror_mode": {
    "name": "ipython",
    "version": 3
   },
   "file_extension": ".py",
   "mimetype": "text/x-python",
   "name": "python",
   "nbconvert_exporter": "python",
   "pygments_lexer": "ipython3",
   "version": "3.12.4"
  }
 },
 "nbformat": 4,
 "nbformat_minor": 5
}
