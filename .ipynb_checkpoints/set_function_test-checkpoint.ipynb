{
 "cells": [
  {
   "cell_type": "code",
   "execution_count": 1,
   "id": "88d11d5a-f62b-4a22-b272-6133c75d9a8d",
   "metadata": {},
   "outputs": [],
   "source": [
    "%load_ext autoreload\n",
    "%autoreload 2"
   ]
  },
  {
   "cell_type": "code",
   "execution_count": 2,
   "id": "44023716-5231-46e8-8691-238afd51ab19",
   "metadata": {},
   "outputs": [],
   "source": [
    "from dataset import Dataset, log_fit_fn\n",
    "from submodular_monotone_net import SubmodularMonotoneNet\n",
    "from torch.utils.data import random_split, DataLoader\n",
    "import torch"
   ]
  },
  {
   "cell_type": "code",
   "execution_count": 3,
   "id": "9da6eb81-4d31-48a9-8bbe-06b26d93789b",
   "metadata": {},
   "outputs": [],
   "source": [
    "DATASET_SIZE = int(1e4)\n",
    "SAMPLE_SIZE = int(1e4)\n",
    "Z_SIZE = 10\n",
    "\n",
    "dataset = Dataset(DATASET_SIZE, SAMPLE_SIZE, Z_SIZE, log_fit_fn)"
   ]
  },
  {
   "cell_type": "code",
   "execution_count": 4,
   "id": "3964675c-a465-4702-ad2d-245e0444ba63",
   "metadata": {},
   "outputs": [
    {
     "data": {
      "text/plain": [
       "(tensor([ True, False, False,  ..., False,  True, False]), tensor(9.7231))"
      ]
     },
     "execution_count": 4,
     "metadata": {},
     "output_type": "execute_result"
    }
   ],
   "source": [
    "dataset[0]"
   ]
  },
  {
   "cell_type": "code",
   "execution_count": 5,
   "id": "dd276da8-724d-4d32-9d52-63388be3cdae",
   "metadata": {},
   "outputs": [],
   "source": [
    "train_size = int(0.8 * len(dataset))  # 80% for training\n",
    "test_size = len(dataset) - train_size  # Remaining for testing\n",
    "\n",
    "train_dataset, test_dataset = random_split(dataset, [train_size, test_size])\n",
    "\n",
    "# Create DataLoader for training and testing\n",
    "batch_size = 32\n",
    "train_loader = DataLoader(train_dataset, batch_size=batch_size, shuffle=True)\n",
    "test_loader = DataLoader(test_dataset, batch_size=batch_size, shuffle=False)"
   ]
  },
  {
   "cell_type": "code",
   "execution_count": 24,
   "id": "70661564-ffb1-45a3-8d4b-990b510be799",
   "metadata": {},
   "outputs": [
    {
     "name": "stdout",
     "output_type": "stream",
     "text": [
      "Random Sample Data: tensor([False, False, False,  ..., False,  True, False])\n",
      "Random Sample Target: 9.638625144958496\n"
     ]
    }
   ],
   "source": [
    "for batch_data, batch_targets in train_loader:\n",
    "    random_index = torch.randint(0, batch_data.size(0), (1,)).item()\n",
    "    sample_data = batch_data[random_index]\n",
    "    sample_target = batch_targets[random_index]\n",
    "    break  # Stop after getting the first sample\n",
    "\n",
    "print(f\"Random Sample Data: {sample_data}\")\n",
    "print(f\"Random Sample Target: {sample_target}\")"
   ]
  },
  {
   "cell_type": "code",
   "execution_count": 18,
   "id": "5dc60870-fe15-442c-90ab-364767529a23",
   "metadata": {},
   "outputs": [],
   "source": [
    "from submodular_monotone_net import SubmodularMonotoneNet\n",
    "monotone_network = SubmodularMonotoneNet(20, 0.5, SAMPLE_SIZE, Z_SIZE, [1, 1000, 1000, 1], dataset)"
   ]
  },
  {
   "cell_type": "code",
   "execution_count": 19,
   "id": "e3f9e2d0-a8e9-4392-b126-39c70876c3ac",
   "metadata": {},
   "outputs": [
    {
     "data": {
      "text/plain": [
       "10000"
      ]
     },
     "execution_count": 19,
     "metadata": {},
     "output_type": "execute_result"
    }
   ],
   "source": [
    "monotone_network.input_size"
   ]
  },
  {
   "cell_type": "code",
   "execution_count": 20,
   "id": "55c72386-cd20-49a1-9f6e-5d101d8c2cf6",
   "metadata": {},
   "outputs": [
    {
     "name": "stdout",
     "output_type": "stream",
     "text": [
      "Epoch 1/100, Loss: 75.6808\n",
      "Epoch 2/100, Loss: 42.5871\n",
      "Epoch 3/100, Loss: 22.1554\n",
      "Epoch 4/100, Loss: 10.6359\n",
      "Epoch 5/100, Loss: 4.8533\n",
      "Epoch 6/100, Loss: 2.3320\n",
      "Epoch 7/100, Loss: 1.4020\n",
      "Epoch 8/100, Loss: 1.1189\n",
      "Epoch 9/100, Loss: 1.0500\n",
      "Epoch 10/100, Loss: 1.0366\n",
      "Epoch 11/100, Loss: 1.0346\n",
      "Epoch 12/100, Loss: 1.0344\n",
      "Epoch 13/100, Loss: 1.0345\n",
      "Epoch 14/100, Loss: 1.0345\n",
      "Epoch 15/100, Loss: 1.0346\n",
      "Epoch 16/100, Loss: 1.0345\n",
      "Epoch 17/100, Loss: 1.0346\n",
      "Epoch 18/100, Loss: 1.0345\n",
      "Epoch 19/100, Loss: 1.0345\n",
      "Epoch 20/100, Loss: 1.0344\n",
      "Epoch 21/100, Loss: 1.0347\n",
      "Epoch 22/100, Loss: 1.0346\n",
      "Epoch 23/100, Loss: 1.0346\n",
      "Epoch 24/100, Loss: 1.0346\n",
      "Epoch 25/100, Loss: 1.0351\n",
      "Epoch 26/100, Loss: 1.0347\n",
      "Epoch 27/100, Loss: 1.0347\n",
      "Epoch 28/100, Loss: 1.0347\n",
      "Epoch 29/100, Loss: 1.0348\n",
      "Epoch 30/100, Loss: 1.0347\n",
      "Epoch 31/100, Loss: 1.0348\n",
      "Epoch 32/100, Loss: 1.0352\n",
      "Epoch 33/100, Loss: 1.0350\n",
      "Epoch 34/100, Loss: 1.0349\n",
      "Epoch 35/100, Loss: 1.0354\n",
      "Epoch 36/100, Loss: 1.0353\n",
      "Epoch 37/100, Loss: 1.0350\n",
      "Epoch 38/100, Loss: 1.0352\n",
      "Epoch 39/100, Loss: 1.0352\n",
      "Epoch 40/100, Loss: 1.0355\n",
      "Epoch 41/100, Loss: 1.0355\n",
      "Epoch 42/100, Loss: 1.0352\n",
      "Epoch 43/100, Loss: 1.0352\n",
      "Epoch 44/100, Loss: 1.0352\n",
      "Epoch 45/100, Loss: 1.0353\n",
      "Epoch 46/100, Loss: 1.0356\n",
      "Epoch 47/100, Loss: 1.0356\n",
      "Epoch 48/100, Loss: 1.0348\n",
      "Epoch 49/100, Loss: 1.0351\n",
      "Epoch 50/100, Loss: 1.0356\n",
      "Epoch 51/100, Loss: 1.0355\n",
      "Epoch 52/100, Loss: 1.0353\n",
      "Epoch 53/100, Loss: 1.0352\n",
      "Epoch 54/100, Loss: 1.0346\n",
      "Epoch 55/100, Loss: 1.0354\n",
      "Epoch 56/100, Loss: 1.0354\n",
      "Epoch 57/100, Loss: 1.0351\n",
      "Epoch 58/100, Loss: 1.0353\n",
      "Epoch 59/100, Loss: 1.0352\n",
      "Epoch 60/100, Loss: 1.0359\n",
      "Epoch 61/100, Loss: 1.0356\n",
      "Epoch 62/100, Loss: 1.0355\n",
      "Epoch 63/100, Loss: 1.0357\n",
      "Epoch 64/100, Loss: 1.0352\n",
      "Epoch 65/100, Loss: 1.0356\n",
      "Epoch 66/100, Loss: 1.0357\n",
      "Epoch 67/100, Loss: 1.0350\n",
      "Epoch 68/100, Loss: 1.0360\n",
      "Epoch 69/100, Loss: 1.0355\n",
      "Epoch 70/100, Loss: 1.0355\n",
      "Epoch 71/100, Loss: 1.0353\n",
      "Epoch 72/100, Loss: 1.0344\n",
      "Epoch 73/100, Loss: 1.0352\n",
      "Epoch 74/100, Loss: 1.0351\n",
      "Epoch 75/100, Loss: 1.0355\n",
      "Epoch 76/100, Loss: 1.0354\n",
      "Epoch 77/100, Loss: 1.0351\n",
      "Epoch 78/100, Loss: 1.0354\n",
      "Epoch 79/100, Loss: 1.0353\n",
      "Epoch 80/100, Loss: 1.0357\n",
      "Epoch 81/100, Loss: 1.0353\n",
      "Epoch 82/100, Loss: 1.0351\n",
      "Epoch 83/100, Loss: 1.0356\n",
      "Epoch 84/100, Loss: 1.0354\n",
      "Epoch 85/100, Loss: 1.0359\n",
      "Epoch 86/100, Loss: 1.0351\n",
      "Epoch 87/100, Loss: 1.0349\n",
      "Epoch 88/100, Loss: 1.0361\n",
      "Epoch 89/100, Loss: 1.0352\n",
      "Epoch 90/100, Loss: 1.0353\n",
      "Epoch 91/100, Loss: 1.0346\n",
      "Epoch 92/100, Loss: 1.0357\n",
      "Epoch 93/100, Loss: 1.0349\n",
      "Epoch 94/100, Loss: 1.0351\n",
      "Epoch 95/100, Loss: 1.0351\n",
      "Epoch 96/100, Loss: 1.0358\n",
      "Epoch 97/100, Loss: 1.0361\n",
      "Epoch 98/100, Loss: 1.0349\n",
      "Epoch 99/100, Loss: 1.0358\n",
      "Epoch 100/100, Loss: 1.0357\n"
     ]
    }
   ],
   "source": [
    "opt = torch.optim.Adam(\n",
    "    params=monotone_network.parameters(), lr=1e-2\n",
    ")\n",
    "\n",
    "num_epochs = 100\n",
    "criterion = torch.nn.MSELoss()\n",
    "\n",
    "for epoch in range(num_epochs):\n",
    "    monotone_network.train()  # Set the model to training mode\n",
    "    running_loss = 0.0\n",
    "    for inputs, labels in train_loader:\n",
    "        opt.zero_grad()  # Zero the parameter gradients\n",
    "        \n",
    "        outputs = monotone_network(inputs.to(torch.float32))  # Forward pass\n",
    "        \n",
    "        loss = criterion(outputs, labels)  # Compute loss\n",
    "        \n",
    "        loss.backward()  # Backward pass\n",
    "        opt.step()  # Update parameters\n",
    "        \n",
    "        running_loss += loss.item() * inputs.size(0)\n",
    "        monotone_network.clamp_weights()\n",
    "    \n",
    "    epoch_loss = running_loss / len(train_loader.dataset)\n",
    "    print(f'Epoch {epoch+1}/{num_epochs}, Loss: {epoch_loss:.4f}')"
   ]
  },
  {
   "cell_type": "code",
   "execution_count": null,
   "id": "423cf52d-36e6-4bfd-9bc2-0d32043b0197",
   "metadata": {},
   "outputs": [],
   "source": []
  }
 ],
 "metadata": {
  "kernelspec": {
   "display_name": "Submodular NN",
   "language": "python",
   "name": "submodular_nn"
  },
  "language_info": {
   "codemirror_mode": {
    "name": "ipython",
    "version": 3
   },
   "file_extension": ".py",
   "mimetype": "text/x-python",
   "name": "python",
   "nbconvert_exporter": "python",
   "pygments_lexer": "ipython3",
   "version": "3.12.4"
  }
 },
 "nbformat": 4,
 "nbformat_minor": 5
}
